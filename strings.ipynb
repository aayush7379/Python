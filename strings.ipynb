{
 "cells": [
  {
   "cell_type": "code",
   "execution_count": null,
   "metadata": {},
   "outputs": [],
   "source": []
  },
  {
   "cell_type": "markdown",
   "metadata": {},
   "source": [
    "creating\n",
    "indexing and slicing \n",
    "methord\n",
    "tip n tricks\n"
   ]
  },
  {
   "cell_type": "code",
   "execution_count": 3,
   "metadata": {},
   "outputs": [],
   "source": [
    "a = 'apple'\n",
    "b = \"apple\"\n",
    "c = '''this is very usefull\n",
    "we can write a code in multiple line'''\n",
    "d = str(12345)\n"
   ]
  },
  {
   "cell_type": "code",
   "execution_count": 4,
   "metadata": {},
   "outputs": [
    {
     "name": "stdout",
     "output_type": "stream",
     "text": [
      "apple iis a fruit\n",
      "c:\\user\\aayush\\desktop\n",
      "hello\n",
      "b'hello'\n"
     ]
    }
   ],
   "source": [
    "#types of strings \n",
    "# f-string\n",
    "x = f'{a} iis a fruit'\n",
    "print(x)\n",
    "#raw string\n",
    "addr = r'c:\\user\\aayush\\desktop'\n",
    "print(addr)\n",
    "#unicode string \n",
    "uni = u'hello'\n",
    "print(uni)\n",
    "# byte string \n",
    "byt = b'hello'\n",
    "print(byt) "
   ]
  },
  {
   "cell_type": "code",
   "execution_count": 7,
   "metadata": {},
   "outputs": [
    {
     "name": "stdout",
     "output_type": "stream",
     "text": [
      "e\n",
      "n\n",
      "c\n",
      "a\n",
      "a\n",
      "e\n",
      "second last i\n",
      "sixth last o\n"
     ]
    }
   ],
   "source": [
    "v ='encyclopedia'\n",
    "print(v[0]) #first index\n",
    "print(v[1]) #second index\n",
    "print(v[2]) #third index\n",
    "print(v[11]) #last index\n",
    "print(v[-1]) #last index\n",
    "print(v[-12]) #first index\n",
    "print('second last',v[-2]) \n",
    "print('sixth last',v[-6]) "
   ]
  },
  {
   "cell_type": "code",
   "execution_count": null,
   "metadata": {},
   "outputs": [],
   "source": []
  }
 ],
 "metadata": {
  "kernelspec": {
   "display_name": "Python 3",
   "language": "python",
   "name": "python3"
  },
  "language_info": {
   "codemirror_mode": {
    "name": "ipython",
    "version": 3
   },
   "file_extension": ".py",
   "mimetype": "text/x-python",
   "name": "python",
   "nbconvert_exporter": "python",
   "pygments_lexer": "ipython3",
   "version": "3.11.9"
  }
 },
 "nbformat": 4,
 "nbformat_minor": 2
}
