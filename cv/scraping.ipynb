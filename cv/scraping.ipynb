{
 "cells": [
  {
   "cell_type": "code",
   "execution_count": 7,
   "metadata": {},
   "outputs": [],
   "source": [
    "from dputils.scrape import Scraper,Tag"
   ]
  },
  {
   "cell_type": "code",
   "execution_count": 3,
   "metadata": {},
   "outputs": [],
   "source": [
    "url =\"https://www.flipkart.com/oppo-f27-pro-midnight-navy-128-gb/p/itm5235c3c836cc9?pid=MOBHF3DJM6Y8N4BA&param=37833&ctx=eyJjYXJkQ29udGV4dCI6eyJhdHRyaWJ1dGVzIjp7InZhbHVlQ2FsbG91dCI6eyJtdWx0aVZhbHVlZEF0dHJpYnV0ZSI6eyJrZXkiOiJ2YWx1ZUNhbGxvdXQiLCJpbmZlcmVuY2VUeXBlIjoiVkFMVUVfQ0FMTE9VVCIsInZhbHVlcyI6WyJKdXN0IOKCuTI3LDk5OSJdLCJ2YWx1ZVR5cGUiOiJNVUxUSV9WQUxVRUQifX0sInRpdGxlIjp7Im11bHRpVmFsdWVkQXR0cmlidXRlIjp7ImtleSI6InRpdGxlIiwiaW5mZXJlbmNlVHlwZSI6IlRJVExFIiwidmFsdWVzIjpbIk9wcG8gRjI3IFBybyBwbHVzIl0sInZhbHVlVHlwZSI6Ik1VTFRJX1ZBTFVFRCJ9fSwiaGVyb1BpZCI6eyJzaW5nbGVWYWx1ZUF0dHJpYnV0ZSI6eyJrZXkiOiJoZXJvUGlkIiwiaW5mZXJlbmNlVHlwZSI6IlBJRCIsInZhbHVlIjoiTU9CSEYzREpNNlk4TjRCQSIsInZhbHVlVHlwZSI6IlNJTkdMRV9WQUxVRUQifX19fX0%3D\"\n",
    "s1 = Scraper(url)"
   ]
  },
  {
   "cell_type": "code",
   "execution_count": 5,
   "metadata": {},
   "outputs": [
    {
     "data": {
      "text/plain": [
       "{'heading': 'OPPO F27 Pro+ (Midnight Navy, 128 GB)\\xa0\\xa0(8 GB RAM)',\n",
       " 'price': None,\n",
       " 'desc': 'Highlights8 GB RAM | 128 GB ROM17.02 cm (6.7 inch) Full HD+ Display64MP + 2MP | 8MP Front Camera5000 mAh BatteryDimensity 7050 Processor'}"
      ]
     },
     "execution_count": 5,
     "metadata": {},
     "output_type": "execute_result"
    }
   ],
   "source": [
    "heading = Tag('h1',cls ='_6EBuvT')\n",
    "price = Tag(cls='nx9bqj CxhGGd')\n",
    "desc = Tag(cls='U+9u4y')\n",
    "s1.get_data_from_page(heading=heading,price=price,desc =desc)\n",
    "\n"
   ]
  },
  {
   "cell_type": "code",
   "execution_count": 6,
   "metadata": {},
   "outputs": [],
   "source": [
    "items = Tag(cls= 'cPHDOP col-12-12')\n",
    "url = \"https://www.flipkart.com/search?q=phones&otracker=search&otracker1=search&marketplace=FLIPKART&as-show=on&as=off\"\n",
    "s2 = Scraper(url)\n",
    "results = s2.get_repeating_date_from_page(\n",
    "    items=items,\n",
    "    target= Tag('body')\n",
    "    tittle = Tag(cls='KzDIHZ')\n",
    "    price = Tag(cls='Nx9bqj_4b5DiR')\n",
    "    rating = Tag('span')\n",
    ")"
   ]
  }
 ],
 "metadata": {
  "kernelspec": {
   "display_name": "base",
   "language": "python",
   "name": "python3"
  },
  "language_info": {
   "codemirror_mode": {
    "name": "ipython",
    "version": 3
   },
   "file_extension": ".py",
   "mimetype": "text/x-python",
   "name": "python",
   "nbconvert_exporter": "python",
   "pygments_lexer": "ipython3",
   "version": "3.12.3"
  }
 },
 "nbformat": 4,
 "nbformat_minor": 2
}
