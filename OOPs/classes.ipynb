{
 "cells": [
  {
   "cell_type": "markdown",
   "metadata": {},
   "source": [
    "## inheritance\n",
    "- there are no access modifier in pyhton,everything is public\n",
    "- method overriding"
   ]
  },
  {
   "cell_type": "code",
   "execution_count": 16,
   "metadata": {},
   "outputs": [],
   "source": [
    "class shape:\n",
    "    def __init__(self, color, filled) -> None:\n",
    "        self.__color = color\n",
    "        self.__filled = filled\n",
    "\n",
    "    def show(self):\n",
    "        print(\"Color: \", self.__color)\n",
    "        print(\"Filled: \", self.__filled)"
   ]
  },
  {
   "cell_type": "code",
   "execution_count": 17,
   "metadata": {},
   "outputs": [],
   "source": [
    "# child class \n",
    "class Circle(shape):\n",
    "    #construction overriding\n",
    "    def __init__(self, color, filled) -> None:\n",
    "        super().__init__(color, filled) \n",
    "class Rectangle(shape):\n",
    "    #construction overriding\n",
    "    def __init__(self, color, filled) -> None:\n",
    "        super().__init__(color, filled)\n",
    "        self.lenth = l\n",
    "        self.width = w\n",
    "    #mrthod overriding\n",
    "    def show(self):\n",
    "         super().show()\n",
    "         print(\"lenth: \", self.lenth)\n",
    "         print(\"width: \", self.width)\n",
    "\n",
    "         def area(self):\n",
    "            return self.lenth * self.width\n",
    "      \n",
    "\n",
    "class Triangle(shape):\n",
    "    #construction overriding\n",
    "    def __init__(self, hieght ,base ) -> None:\n",
    "    #parent class contruction fixed value \n",
    "      def __init__(self, color, filled) -> None:\n",
    "        super().__init__(color ='red', filled =True)\n",
    "        self.base =base\n",
    "        self.height = height\n"
   ]
  },
  {
   "cell_type": "code",
   "execution_count": 19,
   "metadata": {},
   "outputs": [
    {
     "ename": "TypeError",
     "evalue": "Circle.__init__() takes 3 positional arguments but 4 were given",
     "output_type": "error",
     "traceback": [
      "\u001b[1;31m---------------------------------------------------------------------------\u001b[0m",
      "\u001b[1;31mTypeError\u001b[0m                                 Traceback (most recent call last)",
      "Cell \u001b[1;32mIn[19], line 1\u001b[0m\n\u001b[1;32m----> 1\u001b[0m Circle \u001b[38;5;241m=\u001b[39m Circle(\u001b[38;5;241m5\u001b[39m,\u001b[38;5;124m'\u001b[39m\u001b[38;5;124mred\u001b[39m\u001b[38;5;124m'\u001b[39m, \u001b[38;5;28;01mTrue\u001b[39;00m)\n\u001b[0;32m      2\u001b[0m Circle\u001b[38;5;241m.\u001b[39mshow()\n\u001b[0;32m      3\u001b[0m rect \u001b[38;5;241m=\u001b[39m Rectangle(\u001b[38;5;241m10\u001b[39m,\u001b[38;5;241m5\u001b[39m, \u001b[38;5;124m'\u001b[39m\u001b[38;5;124mgreen\u001b[39m\u001b[38;5;124m'\u001b[39m,  \u001b[38;5;28;01mFalse\u001b[39;00m)\n",
      "\u001b[1;31mTypeError\u001b[0m: Circle.__init__() takes 3 positional arguments but 4 were given"
     ]
    }
   ],
   "source": [
    "Circle = Circle(5,'red', True)\n",
    "Circle.show()\n",
    "rect = Rectangle(10, 5, 'green',  False)\n",
    "rect.show()\n",
    "print(\"Rectangle area:\",rect.area())\n",
    "tri = Triangle(10,5)\n",
    "tri.show()"
   ]
  },
  {
   "cell_type": "code",
   "execution_count": null,
   "metadata": {},
   "outputs": [],
   "source": []
  }
 ],
 "metadata": {
  "kernelspec": {
   "display_name": "base",
   "language": "python",
   "name": "python3"
  },
  "language_info": {
   "codemirror_mode": {
    "name": "ipython",
    "version": 3
   },
   "file_extension": ".py",
   "mimetype": "text/x-python",
   "name": "python",
   "nbconvert_exporter": "python",
   "pygments_lexer": "ipython3",
   "version": "3.12.3"
  }
 },
 "nbformat": 4,
 "nbformat_minor": 2
}
