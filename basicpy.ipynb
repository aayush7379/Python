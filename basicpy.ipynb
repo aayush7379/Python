{
 "cells": [
  {
   "cell_type": "code",
   "execution_count": 4,
   "metadata": {},
   "outputs": [
    {
     "name": "stdout",
     "output_type": "stream",
     "text": [
      "[1, 2, 'hello', 'hello']\n",
      "<class 'list'>\n"
     ]
    }
   ],
   "source": [
    "list = [1,2,'hello',\"hello\"]\n",
    "print(list)\n",
    "print(type(list))"
   ]
  },
  {
   "cell_type": "code",
   "execution_count": 8,
   "metadata": {},
   "outputs": [
    {
     "name": "stdout",
     "output_type": "stream",
     "text": [
      "(1, 2, 3, 4, 5)\n",
      "<class 'tuple'>\n"
     ]
    }
   ],
   "source": [
    "mytuple =(1,2,3,4,5)\n",
    "print(mytuple)\n",
    "print(type(mytuple))\n"
   ]
  },
  {
   "cell_type": "markdown",
   "metadata": {},
   "source": [
    "# sets\n",
    "- create\n"
   ]
  },
  {
   "cell_type": "code",
   "execution_count": 9,
   "metadata": {},
   "outputs": [
    {
     "name": "stdout",
     "output_type": "stream",
     "text": [
      "(1, 2, 3, 4, 'hello', 'hii')\n",
      "<class 'tuple'>\n"
     ]
    }
   ],
   "source": [
    "myset =(1,2,3,4,'hello', \"hii\")\n",
    "print(myset)\n",
    "print(type(myset))"
   ]
  },
  {
   "cell_type": "code",
   "execution_count": 13,
   "metadata": {},
   "outputs": [
    {
     "name": "stdout",
     "output_type": "stream",
     "text": [
      "{'name': 'aayush', 'age': 21, 'city': ' lucknow'}\n",
      "aayush\n"
     ]
    }
   ],
   "source": [
    "my_dict = {\n",
    "    \"name\" : \"aayush\",\n",
    "    \"age\" : 21,\n",
    "    \"city\" : \" lucknow\"\n",
    "}\n",
    "print(my_dict)\n",
    "print(my_dict[\"name\"])"
   ]
  },
  {
   "cell_type": "markdown",
   "metadata": {},
   "source": [
    "## operators\n",
    "- Arithmetics\n",
    "- Assignement\n",
    "- comparison\n",
    "- Logical\n",
    "- Identity\n",
    "- Membersgip"
   ]
  },
  {
   "cell_type": "code",
   "execution_count": null,
   "metadata": {},
   "outputs": [],
   "source": [
    "x = 20 \n",
    "y = 10\n",
    "print(x+y) # add two nymber\n",
    "print(x-y) # subs two number \n",
    "print(x*y) # mult of two number \n",
    "print(x/y) # divi of two number\n",
    "print(x%y)  \n",
    "\n"
   ]
  }
 ],
 "metadata": {
  "kernelspec": {
   "display_name": "Python 3",
   "language": "python",
   "name": "python3"
  },
  "language_info": {
   "codemirror_mode": {
    "name": "ipython",
    "version": 3
   },
   "file_extension": ".py",
   "mimetype": "text/x-python",
   "name": "python",
   "nbconvert_exporter": "python",
   "pygments_lexer": "ipython3",
   "version": "3.11.9"
  }
 },
 "nbformat": 4,
 "nbformat_minor": 2
}
