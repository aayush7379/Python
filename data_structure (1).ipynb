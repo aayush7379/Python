{
 "cells": [
  {
   "cell_type": "markdown",
   "metadata": {},
   "source": [
    "## list \n",
    "- creating \n",
    "- indexing n slicing \n",
    "- methods\n",
    "- comprehension"
   ]
  },
  {
   "cell_type": "code",
   "execution_count": 2,
   "metadata": {},
   "outputs": [
    {
     "name": "stdout",
     "output_type": "stream",
     "text": [
      "[]\n",
      "[1, 2, 3, 4]\n",
      "['apple', ' banana', 'cherry']\n",
      "[1, 'apple', 3.5, True]\n",
      "[[1, 2, 3, 4], [5, 6, 7, 8], [9, 10, 11, 12]]\n",
      "[['aaple', 1], ['banana', 3], ['cherry', 2, 120]]\n"
     ]
    }
   ],
   "source": [
    "a = [] # eempty list\n",
    "b = [1,2,3,4] # numerical list \n",
    "c = ['apple',' banana', 'cherry'] # string list \n",
    "d = [1, 'apple', 3.5, True] # mixed list\n",
    "e = [[1,2,3,4],[5,6,7,8],[9,10,11,12]] # list of lists \n",
    "f = [['aaple',1], ['banana', 3],['cherry',2,120]] # mixed nested list \n",
    "print(a)\n",
    "print(b)\n",
    "print(c)\n",
    "print(d)\n",
    "print(e)\n",
    "print(f)\n"
   ]
  },
  {
   "cell_type": "code",
   "execution_count": 4,
   "metadata": {},
   "outputs": [
    {
     "name": "stdout",
     "output_type": "stream",
     "text": [
      "apple\n",
      " banana\n",
      "cherry\n",
      "1\n",
      "apple\n",
      "3.5\n",
      "True\n"
     ]
    }
   ],
   "source": [
    "for i in c :\n",
    "    print(i)\n",
    "for i in d:\n",
    "    print(i)    "
   ]
  },
  {
   "cell_type": "code",
   "execution_count": 7,
   "metadata": {},
   "outputs": [
    {
     "name": "stdout",
     "output_type": "stream",
     "text": [
      "['h', 'e', 'l', 'l', 'o']\n",
      "[0, 1, 2, 3, 4, 5, 6, 7, 8, 9]\n",
      "[1, 2, 3, 4]\n",
      "[1, 2, 3, 1, 2, 3, 1, 2, 3, 1, 2, 3, 1, 2, 3]\n"
     ]
    }
   ],
   "source": [
    "g = list('hello')\n",
    "h = list(range(10))\n",
    "i = list((1,2,3,4))\n",
    "j = [1,2,3] * 5 # duplicted list\n",
    "print(g)\n",
    "print(h)\n",
    "print(i)\n",
    "print(j)"
   ]
  },
  {
   "cell_type": "code",
   "execution_count": 13,
   "metadata": {},
   "outputs": [
    {
     "name": "stdout",
     "output_type": "stream",
     "text": [
      "['golmaal', '3 idiot', 'delhi safari', 'kanchana']\n",
      "4\n",
      "first_movie: golmaal\n",
      "last_movie: kanchana\n",
      "second_movie: 3 idiot\n",
      "third_movie: delhi safari\n"
     ]
    }
   ],
   "source": [
    "movies = ['golmaal','3 idiot',\n",
    "          'delhi safari','kanchana']\n",
    "print(movies)\n",
    "print(len(movies))\n",
    "print(\"first_movie:\",movies[0])\n",
    "print(\"last_movie:\",movies[-1])\n",
    "print(\"second_movie:\",movies[1])\n",
    "print(\"third_movie:\",movies[2])"
   ]
  },
  {
   "cell_type": "code",
   "execution_count": 19,
   "metadata": {},
   "outputs": [
    {
     "name": "stdout",
     "output_type": "stream",
     "text": [
      "[1, 2, 3]\n",
      "[1, 2, 3, 4, 5, 6, 7]\n",
      "[3, 4, 5, 6, 7, 8]\n",
      "[10, 9, 8, 7, 6, 5, 4, 3, 2, 1]\n",
      "[1, 3, 5, 7, 9]\n"
     ]
    }
   ],
   "source": [
    "number = [1,2,3,4,5,6,7,8,9,10]\n",
    "print(number[:3]) # 0,1,2\n",
    "print(number[:-3])\n",
    "print(number[2:-2]) #\n",
    "print(number[::-1]) # reverce the number of list\n",
    "print(number[::2]) # every other number in the list"
   ]
  },
  {
   "cell_type": "markdown",
   "metadata": {},
   "source": [
    "# list methord (11)\n",
    "- adding / updating \n",
    "  - append()\n",
    "  - extend()\n",
    "   - insert()\n",
    "\n",
    "- removing / deleting \n",
    "   - remove()\n",
    "   - pop()\n",
    "   - clear()\n",
    "- utility\n",
    "  - sort()\n",
    "  - reverse()\n",
    "  - index()\n",
    "  - count()\n",
    "   - copy()"
   ]
  },
  {
   "cell_type": "code",
   "execution_count": 21,
   "metadata": {},
   "outputs": [
    {
     "name": "stdout",
     "output_type": "stream",
     "text": [
      "Your fav books are:  ['art of being alone ', 'harry potter', 'the final empire', '', '']\n",
      "Your hated books are:  ['', '', '']\n"
     ]
    }
   ],
   "source": [
    "fav_books = []\n",
    "hated_books = []\n",
    "for i in range(5):\n",
    "    book = input(\"Enter your fav book: \")\n",
    "    fav_books.append(book)\n",
    "for i in range(3):\n",
    "    book = input(\"Enter your hated book: \")\n",
    "    hated_books.append(book)\n",
    "\n",
    "\n",
    "print(\"Your fav books are: \", fav_books)\n",
    "print(\"Your hated books are: \", hated_books)"
   ]
  },
  {
   "cell_type": "code",
   "execution_count": 22,
   "metadata": {},
   "outputs": [
    {
     "name": "stdout",
     "output_type": "stream",
     "text": [
      "['', '', '', 'julius caesar']\n"
     ]
    }
   ],
   "source": [
    "hated_books.append(\"julius caesar\")\n",
    "print(hated_books)"
   ]
  },
  {
   "cell_type": "code",
   "execution_count": 23,
   "metadata": {},
   "outputs": [
    {
     "name": "stdout",
     "output_type": "stream",
     "text": [
      "['art of being alone ', 'harry potter', 'the final empire', '', '', '', '', '', 'julius caesar']\n"
     ]
    }
   ],
   "source": [
    "# merge two list or create a new list \n",
    "books = fav_books + hated_books\n",
    "print(books)"
   ]
  },
  {
   "cell_type": "code",
   "execution_count": 27,
   "metadata": {},
   "outputs": [
    {
     "name": "stdout",
     "output_type": "stream",
     "text": [
      "['art of being alone ', 'harry potter', 'the final empire', '', '', '', '', '', 'julius caesar', 'legins', 'psyclogy of money', ' The intelligent invester', 'legins', 'psyclogy of money', ' The intelligent invester', 'legins', 'psyclogy of money', ' The intelligent invester', 'legins', 'psyclogy of money', ' The intelligent invester']\n",
      "total books : 21\n"
     ]
    }
   ],
   "source": [
    "#  adding a list to existing list \n",
    "books.extend(['legins', 'psyclogy of money',' The intelligent invester'])\n",
    "print(books)\n",
    "print('total books :', len(books))"
   ]
  },
  {
   "cell_type": "code",
   "execution_count": 28,
   "metadata": {},
   "outputs": [
    {
     "name": "stdout",
     "output_type": "stream",
     "text": [
      "['art of being alone ', 'harry potter', 'the final empire', '', '', '', '', '', 'julius caesar', 'legins', 'psyclogy of money', ' The intelligent invester', 'legins', 'psyclogy of money', ' The intelligent invester', 'legins', 'psyclogy of money', ' The intelligent invester', 'legins', 'psyclogy of money', ' The intelligent invester', ['diary of a wimpy kid ', 'harry potter']]\n"
     ]
    }
   ],
   "source": [
    "books.append(['diary of a wimpy kid ', 'harry potter']) # nesting\n",
    "print(books)"
   ]
  },
  {
   "cell_type": "code",
   "execution_count": 37,
   "metadata": {},
   "outputs": [
    {
     "name": "stdout",
     "output_type": "stream",
     "text": [
      "['art of being alone ', 'harry potter', 'harry potter', 'the final empire', '', '', '', '', '', 'julius caesar', 'legins', 'psyclogy of money', ' The intelligent invester', 'legins', 'psyclogy of money', ' The intelligent invester', 'legins', 'psyclogy of money', ' The intelligent invester', 'legins', 'psyclogy of money', ' The intelligent invester', ['diary of a wimpy kid ', 'harry potter']]\n"
     ]
    }
   ],
   "source": [
    "books.insert(2,'harry potter')\n",
    "print(books)\n"
   ]
  },
  {
   "cell_type": "code",
   "execution_count": 40,
   "metadata": {},
   "outputs": [
    {
     "data": {
      "text/plain": [
       "['art of being alone ',\n",
       " 'harry potter',\n",
       " 'harry potter',\n",
       " 'the final empire',\n",
       " '',\n",
       " '',\n",
       " '',\n",
       " '',\n",
       " '',\n",
       " 'julius caesar',\n",
       " 'pygmalion',\n",
       " 'psyclogy of money',\n",
       " ' The intelligent invester',\n",
       " 'legins',\n",
       " 'psyclogy of money',\n",
       " ' The intelligent invester',\n",
       " 'legins',\n",
       " 'psyclogy of money',\n",
       " ' The intelligent invester',\n",
       " 'legins',\n",
       " 'psyclogy of money',\n",
       " ' The intelligent invester',\n",
       " ['diary of a wimpy kid ', 'harry potter']]"
      ]
     },
     "execution_count": 40,
     "metadata": {},
     "output_type": "execute_result"
    }
   ],
   "source": [
    "books[10] = 'pygmalion' # replace at index 10 \n",
    "books"
   ]
  },
  {
   "cell_type": "code",
   "execution_count": 43,
   "metadata": {},
   "outputs": [
    {
     "ename": "ValueError",
     "evalue": "list.remove(x): x not in list",
     "output_type": "error",
     "traceback": [
      "\u001b[1;31m---------------------------------------------------------------------------\u001b[0m",
      "\u001b[1;31mValueError\u001b[0m                                Traceback (most recent call last)",
      "Cell \u001b[1;32mIn[43], line 1\u001b[0m\n\u001b[1;32m----> 1\u001b[0m \u001b[43mbooks\u001b[49m\u001b[38;5;241;43m.\u001b[39;49m\u001b[43mremove\u001b[49m\u001b[43m(\u001b[49m\u001b[38;5;124;43m\"\u001b[39;49m\u001b[38;5;124;43mharry potter\u001b[39;49m\u001b[38;5;124;43m\"\u001b[39;49m\u001b[43m)\u001b[49m \u001b[38;5;66;03m# remove by value\u001b[39;00m\n",
      "\u001b[1;31mValueError\u001b[0m: list.remove(x): x not in list"
     ]
    }
   ],
   "source": [
    "books.remove(\"harry potter\") # remove by value"
   ]
  },
  {
   "cell_type": "code",
   "execution_count": 44,
   "metadata": {},
   "outputs": [
    {
     "data": {
      "text/plain": [
       "['art of being alone ',\n",
       " 'the final empire',\n",
       " '',\n",
       " '',\n",
       " '',\n",
       " '',\n",
       " '',\n",
       " 'julius caesar',\n",
       " 'pygmalion',\n",
       " 'psyclogy of money',\n",
       " ' The intelligent invester',\n",
       " 'legins',\n",
       " 'psyclogy of money',\n",
       " ' The intelligent invester',\n",
       " 'legins',\n",
       " 'psyclogy of money',\n",
       " ' The intelligent invester',\n",
       " 'legins',\n",
       " 'psyclogy of money',\n",
       " ' The intelligent invester',\n",
       " ['diary of a wimpy kid ', 'harry potter']]"
      ]
     },
     "execution_count": 44,
     "metadata": {},
     "output_type": "execute_result"
    }
   ],
   "source": [
    "books"
   ]
  },
  {
   "cell_type": "code",
   "execution_count": 47,
   "metadata": {},
   "outputs": [
    {
     "data": {
      "text/plain": [
       "'legins'"
      ]
     },
     "execution_count": 47,
     "metadata": {},
     "output_type": "execute_result"
    }
   ],
   "source": [
    "books.pop(12) # remove by index "
   ]
  },
  {
   "cell_type": "code",
   "execution_count": 49,
   "metadata": {},
   "outputs": [
    {
     "data": {
      "text/plain": [
       "['diary of a wimpy kid ', 'harry potter']"
      ]
     },
     "execution_count": 49,
     "metadata": {},
     "output_type": "execute_result"
    }
   ],
   "source": [
    "books.pop() # remove last element "
   ]
  },
  {
   "cell_type": "code",
   "execution_count": 50,
   "metadata": {},
   "outputs": [
    {
     "data": {
      "text/plain": [
       "[]"
      ]
     },
     "execution_count": 50,
     "metadata": {},
     "output_type": "execute_result"
    }
   ],
   "source": [
    "fav_books.clear() # remove all element\n",
    "fav_books "
   ]
  },
  {
   "cell_type": "markdown",
   "metadata": {},
   "source": [
    "### wap to create an empty list then fill the list with 10 prime number using a loop ,starting with 2 "
   ]
  },
  {
   "cell_type": "code",
   "execution_count": 3,
   "metadata": {},
   "outputs": [
    {
     "name": "stdout",
     "output_type": "stream",
     "text": [
      "[8, 5, 7, 6, 35, 2, 56, 4, 3, 12]\n"
     ]
    }
   ],
   "source": [
    "number = [12,3,4,56,2,35,6,7,5,8]\n",
    "# reverse\n",
    "print(number[::-1])"
   ]
  },
  {
   "cell_type": "code",
   "execution_count": 4,
   "metadata": {},
   "outputs": [],
   "source": [
    "number.reverse() # change the original list\n"
   ]
  },
  {
   "cell_type": "code",
   "execution_count": 5,
   "metadata": {},
   "outputs": [
    {
     "name": "stdout",
     "output_type": "stream",
     "text": [
      "[8, 5, 7, 6, 35, 2, 56, 4, 3, 12]\n"
     ]
    }
   ],
   "source": [
    "print(number)"
   ]
  },
  {
   "cell_type": "code",
   "execution_count": 8,
   "metadata": {},
   "outputs": [
    {
     "name": "stdout",
     "output_type": "stream",
     "text": [
      "[2, 3, 4, 5, 6, 7, 8, 12, 35, 56]\n",
      "[56, 35, 12, 8, 7, 6, 5, 4, 3, 2]\n"
     ]
    }
   ],
   "source": [
    "number.sort() # ascending order , changes to the original list \n",
    "print(number)\n",
    "number.sort(reverse=True) # descending order , changes to the original list\n",
    "print(number)"
   ]
  },
  {
   "cell_type": "code",
   "execution_count": 9,
   "metadata": {},
   "outputs": [
    {
     "name": "stdout",
     "output_type": "stream",
     "text": [
      "[[1, 12], [2, 5], [4, 15], [5, 10]]\n"
     ]
    }
   ],
   "source": [
    "x = [[1,12],[2,5],[5,10],[4,15]]\n",
    "x.sort()\n",
    "print(x)"
   ]
  },
  {
   "cell_type": "code",
   "execution_count": 11,
   "metadata": {},
   "outputs": [
    {
     "name": "stdout",
     "output_type": "stream",
     "text": [
      "[[2, 5], [5, 10], [1, 12], [4, 15]]\n"
     ]
    }
   ],
   "source": [
    "x.sort(key = lambda  e:e[1])\n",
    "print(x)"
   ]
  },
  {
   "cell_type": "code",
   "execution_count": 12,
   "metadata": {},
   "outputs": [
    {
     "name": "stdout",
     "output_type": "stream",
     "text": [
      "[[2, 5], [1, 12], [5, 10], [4, 15]]\n"
     ]
    }
   ],
   "source": [
    "x.sort(key=lambda i: sum(i))\n",
    "print(x)"
   ]
  },
  {
   "cell_type": "code",
   "execution_count": 13,
   "metadata": {},
   "outputs": [
    {
     "name": "stdout",
     "output_type": "stream",
     "text": [
      "[('Alice', 25), ('alex', 35), ('bob', 19)]\n"
     ]
    }
   ],
   "source": [
    "user = [('Alice',25),('bob',19),('alex',35)]\n",
    "user.sort()\n",
    "print(user)"
   ]
  },
  {
   "cell_type": "code",
   "execution_count": 14,
   "metadata": {},
   "outputs": [
    {
     "name": "stdout",
     "output_type": "stream",
     "text": [
      "[['laptop', 50000, 1], ['mobile', 25000, 2], ['smartwatch', 10000, 1], ['tablet', 15000, 3]]\n"
     ]
    }
   ],
   "source": [
    "cart = [\n",
    "    ['mobile',25000,2],\n",
    "    ['laptop',50000,1],\n",
    "    ['tablet',15000,3],\n",
    "    ['smartwatch',10000,1],\n",
    "]\n",
    "cart.sort()\n",
    "print(cart)"
   ]
  },
  {
   "cell_type": "code",
   "execution_count": 16,
   "metadata": {},
   "outputs": [],
   "source": [
    "cart.sort(key=lambda e:e[2] ) # according to total price"
   ]
  },
  {
   "cell_type": "code",
   "execution_count": 17,
   "metadata": {},
   "outputs": [
    {
     "name": "stdout",
     "output_type": "stream",
     "text": [
      "[['laptop', 50000, 1], ['smartwatch', 10000, 1], ['mobile', 25000, 2], ['tablet', 15000, 3]]\n"
     ]
    }
   ],
   "source": [
    "print(cart)"
   ]
  },
  {
   "cell_type": "code",
   "execution_count": 20,
   "metadata": {},
   "outputs": [
    {
     "name": "stdout",
     "output_type": "stream",
     "text": [
      "1 occurs 5\n",
      "2 occurs 1\n",
      "3 occurs 1\n"
     ]
    }
   ],
   "source": [
    "a = [1,2,3,4,6,5,1,7,5,1,1,1,7,5,6]\n",
    "print(\"1 occurs\",a.count(1))\n",
    "print(\"2 occurs\",a.count(2))\n",
    "print(\"3 occurs\",a.count(3))"
   ]
  },
  {
   "cell_type": "code",
   "execution_count": 21,
   "metadata": {},
   "outputs": [
    {
     "data": {
      "text/plain": [
       "2"
      ]
     },
     "execution_count": 21,
     "metadata": {},
     "output_type": "execute_result"
    }
   ],
   "source": [
    "number.index(12) # give the index of 12 (first occurence)"
   ]
  },
  {
   "cell_type": "code",
   "execution_count": 28,
   "metadata": {},
   "outputs": [
    {
     "name": "stdout",
     "output_type": "stream",
     "text": [
      "[1, 2, 3, 4, 5]\n",
      "[1, 2, 3, 4, 5]\n",
      "[1, 2, 3, 4, 5]\n",
      "[1, 2, 3, 4, 5, 6, 20]\n",
      "[1, 2, 3, 4, 5, 10]\n",
      "[1, 2, 3, 4, 5, 6, 20]\n"
     ]
    }
   ],
   "source": [
    "a = [1,2,3,4,5]\n",
    "b = a.copy() # shaloow copy (new list with same element )\n",
    "c = a # reference copy (both a and c refer to same list )\n",
    "print(a)\n",
    "print(b)\n",
    "print(c)\n",
    "a.append(6)\n",
    "b.append(10)\n",
    "c.append(20)\n",
    "print(a)\n",
    "print(b)\n",
    "print(c)"
   ]
  },
  {
   "cell_type": "markdown",
   "metadata": {},
   "source": [
    "## comprehension "
   ]
  },
  {
   "cell_type": "code",
   "execution_count": 31,
   "metadata": {},
   "outputs": [
    {
     "name": "stdout",
     "output_type": "stream",
     "text": [
      "[1, 2, 3, 4, 5]\n",
      "[1, 8, 27, 64, 125]\n",
      "[-4, -3, -2, -1, 0]\n",
      "[4, 16]\n"
     ]
    }
   ],
   "source": [
    "a = [1,2,3,4,5]\n",
    "a3 = [i**3 for i in a]\n",
    "print(a)\n",
    "print(a3)\n",
    "a5 = [i-5 for i in a ]\n",
    "print(a5)\n",
    "aeven2 = [i**2 for i in a if i%2==0]\n",
    "print(aeven2)"
   ]
  },
  {
   "cell_type": "code",
   "execution_count": 32,
   "metadata": {},
   "outputs": [
    {
     "name": "stdout",
     "output_type": "stream",
     "text": [
      "[4, 16]\n"
     ]
    }
   ],
   "source": [
    "# rookie way\n",
    "aodd2 = []\n",
    "for i in a :\n",
    "    if i % 2 != 0 :\n",
    "        aodd2.append(i)\n",
    "# pythonic way \n",
    "aeven2 =  [i**2 for i in a if i%2==0]\n",
    "print(aeven2)\n",
    "# map and filter\n",
    "# aodd2 = list(map(lambda i:i**2 ,filter(lambda i: i%2!=0,a))) # not good\n",
    "\n"
   ]
  },
  {
   "cell_type": "code",
   "execution_count": 40,
   "metadata": {},
   "outputs": [
    {
     "name": "stdout",
     "output_type": "stream",
     "text": [
      "['a s']\n",
      "['a s', 'b b', 'c g', 'd w']\n",
      "['a s', 'b b', 'c g', 'd w', 'b b']\n",
      "['a s', 'b b', 'c g', 'd w']\n",
      "['a s', 'b b', 'c g', 'd w', 'c g']\n",
      "['a s', 'b b', 'c g', 'd w']\n",
      "['a s', 'b b', 'c g', 'd w', 'd w']\n",
      "['a s', 'b b', 'c g', 'd w']\n"
     ]
    }
   ],
   "source": [
    "names = ['alice smith','bob brown','charlie green','david white']\n",
    "\n",
    "initials = []\n",
    "for n in names:\n",
    "   part = n.split()\n",
    "   initials.append(f\"{part[0][0]} {part[-1][0]}\")\n",
    "   print(initials)\n",
    "   \n",
    "   # comprehension \n",
    "   initials = [f\"{n.split()[0][0]} {n.split()[-1][0]}\" for n in names]\n",
    "   print(initials)"
   ]
  },
  {
   "cell_type": "markdown",
   "metadata": {},
   "source": [
    "# dictionary \n",
    "- creation \n",
    "- traversal\n",
    "- methods\n",
    "- sorting \n",
    "- comprehension"
   ]
  },
  {
   "cell_type": "markdown",
   "metadata": {},
   "source": [
    "syntax\n",
    "\n",
    "{\n",
    "    key:value,\n",
    "    key:value,\n",
    "    key:value,\n",
    "}"
   ]
  },
  {
   "cell_type": "code",
   "execution_count": 2,
   "metadata": {},
   "outputs": [
    {
     "name": "stdout",
     "output_type": "stream",
     "text": [
      "{'apple': 'red', 'banana': 'yellow', 'cherry': 'red', 'orange': 'orange'}\n"
     ]
    }
   ],
   "source": [
    "fruits = {\n",
    "    'apple':'red'\n",
    "    ,'banana':'yellow'\n",
    "    ,'cherry':'red'\n",
    "    ,'orange':'orange'\n",
    "}\n",
    "print(fruits)"
   ]
  },
  {
   "cell_type": "code",
   "execution_count": 3,
   "metadata": {},
   "outputs": [
    {
     "name": "stdout",
     "output_type": "stream",
     "text": [
      "{'lucknow': [25, 30, 35], 'delhi': [20, 25, 30], 'chennai': [24, 35, 22]}\n"
     ]
    }
   ],
   "source": [
    "temp ={\n",
    "    'lucknow':[25,30,35],\n",
    "    'delhi':[20,25,30],\n",
    "    'chennai':[24,35,22]\n",
    "}\n",
    "print(temp)"
   ]
  },
  {
   "cell_type": "code",
   "execution_count": 4,
   "metadata": {},
   "outputs": [
    {
     "name": "stdout",
     "output_type": "stream",
     "text": [
      "{1: 'ichi', 10: 'hhbf', 100: 'hbf', 1000: 'hbf'}\n"
     ]
    }
   ],
   "source": [
    "num ={\n",
    "    1:'ichi',\n",
    "    10:'hhbf',\n",
    "    100:'hbf',\n",
    "    1000:'hbf',\n",
    "}\n",
    "print(num)"
   ]
  },
  {
   "cell_type": "code",
   "execution_count": 7,
   "metadata": {},
   "outputs": [
    {
     "name": "stdout",
     "output_type": "stream",
     "text": [
      "{'name': 'raju', 'age': 25, 'marks': [24, 35, 45]}\n"
     ]
    }
   ],
   "source": [
    "info=dict(name='raju',age =25,marks=[24,35,45])\n",
    "print(info)"
   ]
  },
  {
   "cell_type": "code",
   "execution_count": 8,
   "metadata": {},
   "outputs": [
    {
     "name": "stdout",
     "output_type": "stream",
     "text": [
      "{'name': '', 'age': 0}\n"
     ]
    }
   ],
   "source": [
    "info2 = dict(name=input(),age=int())\n",
    "print(info2)"
   ]
  },
  {
   "cell_type": "code",
   "execution_count": 9,
   "metadata": {},
   "outputs": [
    {
     "name": "stdout",
     "output_type": "stream",
     "text": [
      "{'alex': {'englsh': 85, 'math': 90, 'science': 78}, 'john': {'english': 90, 'math': 85, 'science': 92}}\n"
     ]
    }
   ],
   "source": [
    "# nested dictinonary\n",
    "report = {\n",
    "    'alex' :{\n",
    "        'englsh':85\n",
    "        ,'math':90\n",
    "        ,'science':78\n",
    "    },\n",
    "    'john' :{\n",
    "        'english':90,\n",
    "        'math':85,\n",
    "        'science':92\n",
    "}\n",
    "}\n",
    "print(report)"
   ]
  },
  {
   "cell_type": "code",
   "execution_count": 10,
   "metadata": {},
   "outputs": [],
   "source": [
    "from pprint import pp # pretty print \n"
   ]
  },
  {
   "cell_type": "code",
   "execution_count": 11,
   "metadata": {},
   "outputs": [
    {
     "name": "stdout",
     "output_type": "stream",
     "text": [
      "{'alex': {'englsh': 85, 'math': 90, 'science': 78},\n",
      " 'john': {'english': 90, 'math': 85, 'science': 92}}\n"
     ]
    }
   ],
   "source": [
    "pp(report)"
   ]
  },
  {
   "cell_type": "code",
   "execution_count": 16,
   "metadata": {},
   "outputs": [
    {
     "data": {
      "text/plain": [
       "'yellow'"
      ]
     },
     "execution_count": 16,
     "metadata": {},
     "output_type": "execute_result"
    }
   ],
   "source": [
    "fruits['banana']"
   ]
  },
  {
   "cell_type": "code",
   "execution_count": 17,
   "metadata": {},
   "outputs": [
    {
     "data": {
      "text/plain": [
       "[25, 30, 35]"
      ]
     },
     "execution_count": 17,
     "metadata": {},
     "output_type": "execute_result"
    }
   ],
   "source": [
    "temp['lucknow']"
   ]
  },
  {
   "cell_type": "code",
   "execution_count": 18,
   "metadata": {},
   "outputs": [
    {
     "data": {
      "text/plain": [
       "90"
      ]
     },
     "execution_count": 18,
     "metadata": {},
     "output_type": "execute_result"
    }
   ],
   "source": [
    "report['alex']['math']"
   ]
  },
  {
   "cell_type": "code",
   "execution_count": 21,
   "metadata": {},
   "outputs": [
    {
     "name": "stdout",
     "output_type": "stream",
     "text": [
      "20\n",
      "30\n",
      "avg temp of delhi 25.0\n"
     ]
    }
   ],
   "source": [
    "print(temp['delhi'][0])\n",
    "print(temp['delhi'][-1])\n",
    "print('avg temp of delhi',sum(temp['delhi'])/len(temp['delhi']))"
   ]
  },
  {
   "cell_type": "code",
   "execution_count": 22,
   "metadata": {},
   "outputs": [
    {
     "name": "stdout",
     "output_type": "stream",
     "text": [
      "dict_keys(['apple', 'banana', 'cherry', 'orange'])\n",
      "dict_values([[25, 30, 35], [20, 25, 30], [24, 35, 22]])\n",
      "dict_values([{'englsh': 85, 'math': 90, 'science': 78}, {'english': 90, 'math': 85, 'science': 92}])\n"
     ]
    }
   ],
   "source": [
    "# all keys of dictionary\n",
    "print(fruits.keys())\n",
    "print(temp.values())\n",
    "print(report.values())"
   ]
  },
  {
   "cell_type": "code",
   "execution_count": 23,
   "metadata": {},
   "outputs": [
    {
     "name": "stdout",
     "output_type": "stream",
     "text": [
      "apple\n",
      "banana\n",
      "cherry\n",
      "orange\n"
     ]
    }
   ],
   "source": [
    "# traverse thought key\n",
    "for item in fruits:\n",
    "    print(item)"
   ]
  },
  {
   "cell_type": "code",
   "execution_count": 26,
   "metadata": {},
   "outputs": [
    {
     "name": "stdout",
     "output_type": "stream",
     "text": [
      "apple red\n",
      "banana yellow\n",
      "cherry red\n",
      "orange orange\n"
     ]
    }
   ],
   "source": [
    "for key in fruits:\n",
    "    print(key,fruits[key])"
   ]
  },
  {
   "cell_type": "code",
   "execution_count": 27,
   "metadata": {},
   "outputs": [
    {
     "name": "stdout",
     "output_type": "stream",
     "text": [
      "apple red\n",
      "banana yellow\n",
      "cherry red\n",
      "orange orange\n"
     ]
    }
   ],
   "source": [
    "# traverse using .items() methods\n",
    "for k , v in fruits.items():\n",
    "    print(k,v)"
   ]
  },
  {
   "cell_type": "code",
   "execution_count": 28,
   "metadata": {},
   "outputs": [
    {
     "name": "stdout",
     "output_type": "stream",
     "text": [
      "apple\n",
      "banana\n",
      "cherry\n",
      "orange\n"
     ]
    }
   ],
   "source": [
    "# traverse only value\n",
    "for v in fruits:\n",
    "     print(v)"
   ]
  },
  {
   "cell_type": "code",
   "execution_count": 39,
   "metadata": {},
   "outputs": [
    {
     "name": "stdout",
     "output_type": "stream",
     "text": [
      "alex\n",
      "-> englsh 85\n",
      "-> math 90\n",
      "-> science 78\n",
      "john\n",
      "-> english 90\n",
      "-> math 85\n",
      "-> science 92\n"
     ]
    }
   ],
   "source": [
    "# total marks of all student \n",
    "for student , marks in report.items():\n",
    "    print(student)\n",
    "    for subject, marks in marks.items():\n",
    "        print(\"->\",subject,marks)\n",
    "        "
   ]
  },
  {
   "cell_type": "code",
   "execution_count": 40,
   "metadata": {},
   "outputs": [
    {
     "name": "stdout",
     "output_type": "stream",
     "text": [
      "{'apple': 'yellow', 'banana': 'yellow', 'cherry': 'red', 'orange': 'orange'}\n"
     ]
    }
   ],
   "source": [
    "# there is no methods to add a single value to a dictionary (just a simple assignment )\n",
    "fruits['apple'] = 'yellow' # add\n",
    "fruits['banana'] = 'yellow'\n",
    "print(fruits)"
   ]
  },
  {
   "cell_type": "code",
   "execution_count": null,
   "metadata": {},
   "outputs": [],
   "source": [
    "# adding small dictionary to a big dictionary\n"
   ]
  },
  {
   "cell_type": "code",
   "execution_count": 41,
   "metadata": {},
   "outputs": [
    {
     "name": "stdout",
     "output_type": "stream",
     "text": [
      "{'apple': 'yellow', 'cherry': 'red', 'orange': 'orange'}\n"
     ]
    }
   ],
   "source": [
    "# remove \n",
    "fruits.pop('banana')\n",
    "pp(fruits)"
   ]
  },
  {
   "cell_type": "code",
   "execution_count": 44,
   "metadata": {},
   "outputs": [
    {
     "data": {
      "text/plain": [
       "[('apple', 'yellow'), ('cherry', 'red'), ('orange', 'orange')]"
      ]
     },
     "execution_count": 44,
     "metadata": {},
     "output_type": "execute_result"
    }
   ],
   "source": [
    "# sorting \n",
    "sorted(fruits.items())"
   ]
  },
  {
   "cell_type": "code",
   "execution_count": 48,
   "metadata": {},
   "outputs": [
    {
     "data": {
      "text/plain": [
       "{'apple': 'yellow', 'cherry': 'red', 'orange': 'orange'}"
      ]
     },
     "execution_count": 48,
     "metadata": {},
     "output_type": "execute_result"
    }
   ],
   "source": [
    "dict(sorted(fruits.items(),key=lambda i:i[1],reverse=True))"
   ]
  },
  {
   "cell_type": "code",
   "execution_count": 51,
   "metadata": {},
   "outputs": [
    {
     "name": "stdout",
     "output_type": "stream",
     "text": [
      "{'apple': 'YELLOW'}\n",
      "{'apple': 'YELLOW', 'cherry': 'RED'}\n",
      "{'apple': 'YELLOW', 'cherry': 'RED', 'orange': 'ORANGE'}\n"
     ]
    }
   ],
   "source": [
    "clean_fruits = {}\n",
    "for k,v in fruits.items():\n",
    "    clean_fruits[k.lower()]= v.upper()\n",
    "    pp(clean_fruits)"
   ]
  },
  {
   "cell_type": "code",
   "execution_count": 52,
   "metadata": {},
   "outputs": [
    {
     "name": "stdout",
     "output_type": "stream",
     "text": [
      "{'apple': 'YELLOW', 'cherry': 'RED', 'orange': 'ORANGE'}\n"
     ]
    }
   ],
   "source": [
    "# the comprehension way \n",
    "clean_fruits = {k.lower():v.upper() for k , v in fruits.items()}\n",
    "pp(clean_fruits)"
   ]
  },
  {
   "cell_type": "code",
   "execution_count": 53,
   "metadata": {},
   "outputs": [
    {
     "name": "stdout",
     "output_type": "stream",
     "text": [
      "{'lucknow': 30.0, 'delhi': 25.0, 'chennai': 27.0}\n"
     ]
    }
   ],
   "source": [
    "avg_temp ={city:sum(data)/len(data)for city,data in temp.items()}\n",
    "pp(avg_temp)"
   ]
  },
  {
   "cell_type": "code",
   "execution_count": null,
   "metadata": {},
   "outputs": [],
   "source": []
  }
 ],
 "metadata": {
  "kernelspec": {
   "display_name": "Python 3",
   "language": "python",
   "name": "python3"
  },
  "language_info": {
   "codemirror_mode": {
    "name": "ipython",
    "version": 3
   },
   "file_extension": ".py",
   "mimetype": "text/x-python",
   "name": "python",
   "nbconvert_exporter": "python",
   "pygments_lexer": "ipython3",
   "version": "3.11.9"
  }
 },
 "nbformat": 4,
 "nbformat_minor": 2
}
