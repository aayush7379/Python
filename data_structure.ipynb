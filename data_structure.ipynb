{
 "cells": [
  {
   "cell_type": "markdown",
   "metadata": {},
   "source": [
    "## list \n",
    "- creating \n",
    "- indexing n slicing \n",
    "- methods\n",
    "- comprehension"
   ]
  },
  {
   "cell_type": "code",
   "execution_count": 2,
   "metadata": {},
   "outputs": [
    {
     "name": "stdout",
     "output_type": "stream",
     "text": [
      "[]\n",
      "[1, 2, 3, 4]\n",
      "['apple', ' banana', 'cherry']\n",
      "[1, 'apple', 3.5, True]\n",
      "[[1, 2, 3, 4], [5, 6, 7, 8], [9, 10, 11, 12]]\n",
      "[['aaple', 1], ['banana', 3], ['cherry', 2, 120]]\n"
     ]
    }
   ],
   "source": [
    "a = [] # eempty list\n",
    "b = [1,2,3,4] # numerical list \n",
    "c = ['apple',' banana', 'cherry'] # string list \n",
    "d = [1, 'apple', 3.5, True] # mixed list\n",
    "e = [[1,2,3,4],[5,6,7,8],[9,10,11,12]] # list of lists \n",
    "f = [['aaple',1], ['banana', 3],['cherry',2,120]] # mixed nested list \n",
    "print(a)\n",
    "print(b)\n",
    "print(c)\n",
    "print(d)\n",
    "print(e)\n",
    "print(f)\n"
   ]
  },
  {
   "cell_type": "code",
   "execution_count": 4,
   "metadata": {},
   "outputs": [
    {
     "name": "stdout",
     "output_type": "stream",
     "text": [
      "apple\n",
      " banana\n",
      "cherry\n",
      "1\n",
      "apple\n",
      "3.5\n",
      "True\n"
     ]
    }
   ],
   "source": [
    "for i in c :\n",
    "    print(i)\n",
    "for i in d:\n",
    "    print(i)    "
   ]
  },
  {
   "cell_type": "code",
   "execution_count": 7,
   "metadata": {},
   "outputs": [
    {
     "name": "stdout",
     "output_type": "stream",
     "text": [
      "['h', 'e', 'l', 'l', 'o']\n",
      "[0, 1, 2, 3, 4, 5, 6, 7, 8, 9]\n",
      "[1, 2, 3, 4]\n",
      "[1, 2, 3, 1, 2, 3, 1, 2, 3, 1, 2, 3, 1, 2, 3]\n"
     ]
    }
   ],
   "source": [
    "g = list('hello')\n",
    "h = list(range(10))\n",
    "i = list((1,2,3,4))\n",
    "j = [1,2,3] * 5 # duplicted list\n",
    "print(g)\n",
    "print(h)\n",
    "print(i)\n",
    "print(j)"
   ]
  },
  {
   "cell_type": "code",
   "execution_count": 13,
   "metadata": {},
   "outputs": [
    {
     "name": "stdout",
     "output_type": "stream",
     "text": [
      "['golmaal', '3 idiot', 'delhi safari', 'kanchana']\n",
      "4\n",
      "first_movie: golmaal\n",
      "last_movie: kanchana\n",
      "second_movie: 3 idiot\n",
      "third_movie: delhi safari\n"
     ]
    }
   ],
   "source": [
    "movies = ['golmaal','3 idiot',\n",
    "          'delhi safari','kanchana']\n",
    "print(movies)\n",
    "print(len(movies))\n",
    "print(\"first_movie:\",movies[0])\n",
    "print(\"last_movie:\",movies[-1])\n",
    "print(\"second_movie:\",movies[1])\n",
    "print(\"third_movie:\",movies[2])"
   ]
  },
  {
   "cell_type": "code",
   "execution_count": 19,
   "metadata": {},
   "outputs": [
    {
     "name": "stdout",
     "output_type": "stream",
     "text": [
      "[1, 2, 3]\n",
      "[1, 2, 3, 4, 5, 6, 7]\n",
      "[3, 4, 5, 6, 7, 8]\n",
      "[10, 9, 8, 7, 6, 5, 4, 3, 2, 1]\n",
      "[1, 3, 5, 7, 9]\n"
     ]
    }
   ],
   "source": [
    "number = [1,2,3,4,5,6,7,8,9,10]\n",
    "print(number[:3]) # 0,1,2\n",
    "print(number[:-3])\n",
    "print(number[2:-2]) #\n",
    "print(number[::-1]) # reverce the number of list\n",
    "print(number[::2]) # every other number in the list"
   ]
  },
  {
   "cell_type": "markdown",
   "metadata": {},
   "source": [
    "# list methord (11)\n",
    "- adding / updating \n",
    "  - append()\n",
    "  - extend()\n",
    "   - insert()\n",
    "\n",
    "- removing / deleting \n",
    "   - remove()\n",
    "   - pop()\n",
    "   - clear()\n",
    "- utility\n",
    "  - sort()\n",
    "  - reverse()\n",
    "  - index()\n",
    "  - count()\n",
    "   - copy()"
   ]
  },
  {
   "cell_type": "code",
   "execution_count": 21,
   "metadata": {},
   "outputs": [
    {
     "name": "stdout",
     "output_type": "stream",
     "text": [
      "Your fav books are:  ['art of being alone ', 'harry potter', 'the final empire', '', '']\n",
      "Your hated books are:  ['', '', '']\n"
     ]
    }
   ],
   "source": [
    "fav_books = []\n",
    "hated_books = []\n",
    "for i in range(5):\n",
    "    book = input(\"Enter your fav book: \")\n",
    "    fav_books.append(book)\n",
    "for i in range(3):\n",
    "    book = input(\"Enter your hated book: \")\n",
    "    hated_books.append(book)\n",
    "\n",
    "\n",
    "print(\"Your fav books are: \", fav_books)\n",
    "print(\"Your hated books are: \", hated_books)"
   ]
  },
  {
   "cell_type": "code",
   "execution_count": 22,
   "metadata": {},
   "outputs": [
    {
     "name": "stdout",
     "output_type": "stream",
     "text": [
      "['', '', '', 'julius caesar']\n"
     ]
    }
   ],
   "source": [
    "hated_books.append(\"julius caesar\")\n",
    "print(hated_books)"
   ]
  },
  {
   "cell_type": "code",
   "execution_count": 23,
   "metadata": {},
   "outputs": [
    {
     "name": "stdout",
     "output_type": "stream",
     "text": [
      "['art of being alone ', 'harry potter', 'the final empire', '', '', '', '', '', 'julius caesar']\n"
     ]
    }
   ],
   "source": [
    "# merge two list or create a new list \n",
    "books = fav_books + hated_books\n",
    "print(books)"
   ]
  },
  {
   "cell_type": "code",
   "execution_count": 27,
   "metadata": {},
   "outputs": [
    {
     "name": "stdout",
     "output_type": "stream",
     "text": [
      "['art of being alone ', 'harry potter', 'the final empire', '', '', '', '', '', 'julius caesar', 'legins', 'psyclogy of money', ' The intelligent invester', 'legins', 'psyclogy of money', ' The intelligent invester', 'legins', 'psyclogy of money', ' The intelligent invester', 'legins', 'psyclogy of money', ' The intelligent invester']\n",
      "total books : 21\n"
     ]
    }
   ],
   "source": [
    "#  adding a list to existing list \n",
    "books.extend(['legins', 'psyclogy of money',' The intelligent invester'])\n",
    "print(books)\n",
    "print('total books :', len(books))"
   ]
  },
  {
   "cell_type": "code",
   "execution_count": 28,
   "metadata": {},
   "outputs": [
    {
     "name": "stdout",
     "output_type": "stream",
     "text": [
      "['art of being alone ', 'harry potter', 'the final empire', '', '', '', '', '', 'julius caesar', 'legins', 'psyclogy of money', ' The intelligent invester', 'legins', 'psyclogy of money', ' The intelligent invester', 'legins', 'psyclogy of money', ' The intelligent invester', 'legins', 'psyclogy of money', ' The intelligent invester', ['diary of a wimpy kid ', 'harry potter']]\n"
     ]
    }
   ],
   "source": [
    "books.append(['diary of a wimpy kid ', 'harry potter']) # nesting\n",
    "print(books)"
   ]
  },
  {
   "cell_type": "code",
   "execution_count": 37,
   "metadata": {},
   "outputs": [
    {
     "name": "stdout",
     "output_type": "stream",
     "text": [
      "['art of being alone ', 'harry potter', 'harry potter', 'the final empire', '', '', '', '', '', 'julius caesar', 'legins', 'psyclogy of money', ' The intelligent invester', 'legins', 'psyclogy of money', ' The intelligent invester', 'legins', 'psyclogy of money', ' The intelligent invester', 'legins', 'psyclogy of money', ' The intelligent invester', ['diary of a wimpy kid ', 'harry potter']]\n"
     ]
    }
   ],
   "source": [
    "books.insert(2,'harry potter')\n",
    "print(books)\n"
   ]
  },
  {
   "cell_type": "code",
   "execution_count": 40,
   "metadata": {},
   "outputs": [
    {
     "data": {
      "text/plain": [
       "['art of being alone ',\n",
       " 'harry potter',\n",
       " 'harry potter',\n",
       " 'the final empire',\n",
       " '',\n",
       " '',\n",
       " '',\n",
       " '',\n",
       " '',\n",
       " 'julius caesar',\n",
       " 'pygmalion',\n",
       " 'psyclogy of money',\n",
       " ' The intelligent invester',\n",
       " 'legins',\n",
       " 'psyclogy of money',\n",
       " ' The intelligent invester',\n",
       " 'legins',\n",
       " 'psyclogy of money',\n",
       " ' The intelligent invester',\n",
       " 'legins',\n",
       " 'psyclogy of money',\n",
       " ' The intelligent invester',\n",
       " ['diary of a wimpy kid ', 'harry potter']]"
      ]
     },
     "execution_count": 40,
     "metadata": {},
     "output_type": "execute_result"
    }
   ],
   "source": [
    "books[10] = 'pygmalion' # replace at index 10 \n",
    "books"
   ]
  },
  {
   "cell_type": "code",
   "execution_count": 43,
   "metadata": {},
   "outputs": [
    {
     "ename": "ValueError",
     "evalue": "list.remove(x): x not in list",
     "output_type": "error",
     "traceback": [
      "\u001b[1;31m---------------------------------------------------------------------------\u001b[0m",
      "\u001b[1;31mValueError\u001b[0m                                Traceback (most recent call last)",
      "Cell \u001b[1;32mIn[43], line 1\u001b[0m\n\u001b[1;32m----> 1\u001b[0m \u001b[43mbooks\u001b[49m\u001b[38;5;241;43m.\u001b[39;49m\u001b[43mremove\u001b[49m\u001b[43m(\u001b[49m\u001b[38;5;124;43m\"\u001b[39;49m\u001b[38;5;124;43mharry potter\u001b[39;49m\u001b[38;5;124;43m\"\u001b[39;49m\u001b[43m)\u001b[49m \u001b[38;5;66;03m# remove by value\u001b[39;00m\n",
      "\u001b[1;31mValueError\u001b[0m: list.remove(x): x not in list"
     ]
    }
   ],
   "source": [
    "books.remove(\"harry potter\") # remove by value"
   ]
  },
  {
   "cell_type": "code",
   "execution_count": 44,
   "metadata": {},
   "outputs": [
    {
     "data": {
      "text/plain": [
       "['art of being alone ',\n",
       " 'the final empire',\n",
       " '',\n",
       " '',\n",
       " '',\n",
       " '',\n",
       " '',\n",
       " 'julius caesar',\n",
       " 'pygmalion',\n",
       " 'psyclogy of money',\n",
       " ' The intelligent invester',\n",
       " 'legins',\n",
       " 'psyclogy of money',\n",
       " ' The intelligent invester',\n",
       " 'legins',\n",
       " 'psyclogy of money',\n",
       " ' The intelligent invester',\n",
       " 'legins',\n",
       " 'psyclogy of money',\n",
       " ' The intelligent invester',\n",
       " ['diary of a wimpy kid ', 'harry potter']]"
      ]
     },
     "execution_count": 44,
     "metadata": {},
     "output_type": "execute_result"
    }
   ],
   "source": [
    "books"
   ]
  },
  {
   "cell_type": "code",
   "execution_count": 47,
   "metadata": {},
   "outputs": [
    {
     "data": {
      "text/plain": [
       "'legins'"
      ]
     },
     "execution_count": 47,
     "metadata": {},
     "output_type": "execute_result"
    }
   ],
   "source": [
    "books.pop(12) # remove by index "
   ]
  },
  {
   "cell_type": "code",
   "execution_count": 49,
   "metadata": {},
   "outputs": [
    {
     "data": {
      "text/plain": [
       "['diary of a wimpy kid ', 'harry potter']"
      ]
     },
     "execution_count": 49,
     "metadata": {},
     "output_type": "execute_result"
    }
   ],
   "source": [
    "books.pop() # remove last element "
   ]
  },
  {
   "cell_type": "code",
   "execution_count": 50,
   "metadata": {},
   "outputs": [
    {
     "data": {
      "text/plain": [
       "[]"
      ]
     },
     "execution_count": 50,
     "metadata": {},
     "output_type": "execute_result"
    }
   ],
   "source": [
    "fav_books.clear() # remove all element\n",
    "fav_books "
   ]
  },
  {
   "cell_type": "markdown",
   "metadata": {},
   "source": [
    "### wap to create an empty list then fill the list with 10 prime number using a loop ,starting with 2 "
   ]
  },
  {
   "cell_type": "code",
   "execution_count": null,
   "metadata": {},
   "outputs": [],
   "source": []
  }
 ],
 "metadata": {
  "kernelspec": {
   "display_name": "Python 3",
   "language": "python",
   "name": "python3"
  },
  "language_info": {
   "codemirror_mode": {
    "name": "ipython",
    "version": 3
   },
   "file_extension": ".py",
   "mimetype": "text/x-python",
   "name": "python",
   "nbconvert_exporter": "python",
   "pygments_lexer": "ipython3",
   "version": "3.11.9"
  }
 },
 "nbformat": 4,
 "nbformat_minor": 2
}
